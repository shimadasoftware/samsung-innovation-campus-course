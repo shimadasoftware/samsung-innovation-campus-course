{
 "cells": [
  {
   "cell_type": "markdown",
   "metadata": {},
   "source": [
    "# <FONT COLOR=\"blue\"> **Samsung Innovation Campus**</FONT>  \n",
    "\n",
    "## <FONT COLOR=\"blue\">**Codificación y Programación**</FONT>\n",
    "\n",
    "\n",
    "# **Capítulo 2. Programación básica de Python - Tipo de datos de secuencia en Python**\n",
    "\n",
    "## Objetivos del capítulo\n",
    "- Los alumnos podrán usar tipos de datos de secuencia, como la lista, el diccionario, la tupla y el conjunto de Python. Python se caracteriza al proporcionar estructuras de datos enriquecidas que incluyen tipos de datos de secuencia, y los alumnos utilizarán esas estructuras de datos para adquirir habilidades de codificación avanzadas. \n",
    "\n",
    "## Contenido del capítulo\n",
    "- Unidad 10. Tipos de datos: lista y tupla\n",
    "- Unidad 11. Tipos de datos: diccionario\n",
    "- Unidad 12. Tipos de datos: secuencia\n",
    "- Unidad 13. Listas 2D\n",
    "- Unidad 14. Diccionario: Método 1\n",
    "- Unidad 15. Diccionario: Método 2\n",
    "- Unidad 16. Tipo de datos: Set\n",
    "- Desafios de programacion adicionales"
   ]
  },
  {
   "cell_type": "markdown",
   "metadata": {},
   "source": [
    "# **Desafios de programación adicionales**"
   ]
  },
  {
   "cell_type": "markdown",
   "metadata": {},
   "source": [
    "## **Ejercicio 1**"
   ]
  },
  {
   "cell_type": "markdown",
   "metadata": {},
   "source": [
    "Escriba una función que dado una cada de caracteres como paramétro (palábra o frase) la regrese al revés de la misma\n",
    "\n",
    "<table>\n",
    "<tr>\n",
    "  <td><strong>Condicion para la ejecución</strong></td>\n",
    "  <td>'Mi nombre es Juan José'</td>\n",
    "<tr>\n",
    "  <td><strong>Salida</strong></td>\n",
    "  <td>'iM erbmom se nauJ ésoJ'</td>\n",
    "<tr>\n",
    "  <td><strong>Tiempo</strong></td>\n",
    "  <td>5 Minutos</td>\n",
    "<tr>\n",
    "</table>"
   ]
  },
  {
   "cell_type": "markdown",
   "metadata": {},
   "source": [
    "#### <FONT COLOR=\"blue\">**SOLUCION Ejercicio 1.** </FONT>"
   ]
  },
  {
   "cell_type": "code",
   "execution_count": 2,
   "metadata": {},
   "outputs": [
    {
     "name": "stdout",
     "output_type": "stream",
     "text": [
      "iM erbmon se nauJ ésoJ\n"
     ]
    }
   ],
   "source": [
    "# Exercise to reverse each word  of a string\n",
    "def reverse_words(Sentence):\n",
    "    # Split string on whitespace\n",
    "    words = Sentence.split(\" \")\n",
    "\n",
    "    # iterate list and reverse each word using ::-1\n",
    "    new_word_list = [word[::-1] for word in words]\n",
    "    \n",
    "    # Joining the new list of words\n",
    "    res_str = \" \".join(new_word_list)\n",
    "    return res_str\n",
    "\n",
    "# Given String\n",
    "str1 = \"Mi nombre es Juan José\"\n",
    "print(reverse_words(str1))"
   ]
  },
  {
   "cell_type": "markdown",
   "metadata": {},
   "source": [
    "## **Ejercicio 2**"
   ]
  },
  {
   "cell_type": "markdown",
   "metadata": {},
   "source": [
    "Dado un archivo de texto que contiene la siguiente información:\n",
    "\n",
    "Linea1\n",
    "Linea2\n",
    "Linea3\n",
    "Linea4\n",
    "\n",
    "Escriba un programa que reemplace los cambios de linea con un espacio\n",
    "\n",
    "<table>\n",
    "<tr>\n",
    "  <td><strong>Condicion para la ejecución</strong></td>\n",
    "  <td>'lineas.txt'</td>\n",
    "<tr>\n",
    "  <td><strong>Salida</strong></td>\n",
    "  <td>Linea1 Linea2 Linea3 Linea4</td>\n",
    "<tr>\n",
    "  <td><strong>Tiempo</strong></td>\n",
    "  <td>5 Minutos</td>\n",
    "<tr>\n",
    "</table>"
   ]
  },
  {
   "cell_type": "markdown",
   "metadata": {},
   "source": [
    "#### <FONT COLOR=\"blue\">**SOLUCION Ejercicio 2.** </FONT>"
   ]
  },
  {
   "cell_type": "code",
   "execution_count": 5,
   "metadata": {},
   "outputs": [
    {
     "name": "stdout",
     "output_type": "stream",
     "text": [
      "Linea1 Linea2 Linea3 Linea4\n"
     ]
    }
   ],
   "source": [
    "with open('lineas.txt', 'r') as file:\n",
    "    data = file.read().replace('\\n', ' ')\n",
    "    print(data)"
   ]
  },
  {
   "cell_type": "markdown",
   "metadata": {},
   "source": [
    "## **Ejercicio 3**"
   ]
  },
  {
   "cell_type": "markdown",
   "metadata": {},
   "source": [
    "Dado la siguiente lista: \n",
    "\n",
    "number_list = [10,20,30,40,50,60,70,80,90,100]\n",
    "\n",
    "Remueva los números mayores a 50 dentro de un ciclo While sin necesidad de realizar una copia de la lista\n",
    "<table>\n",
    "<tr>\n",
    "  <td><strong>Condicion para la ejecución</strong></td>\n",
    "  <td>number_list = [10,20,30,40,50,60,70,80,90,100]</td>\n",
    "<tr>\n",
    "  <td><strong>Salida</strong></td>\n",
    "  <td>number_list = [10,20,30,40,50]</td>\n",
    "<tr>\n",
    "  <td><strong>Tiempo</strong></td>\n",
    "  <td>5 Minutos</td>\n",
    "<tr>\n",
    "</table>"
   ]
  },
  {
   "cell_type": "markdown",
   "metadata": {},
   "source": [
    "#### <FONT COLOR=\"blue\">**SOLUCION Ejercicio 3.** </FONT>"
   ]
  },
  {
   "cell_type": "code",
   "execution_count": 7,
   "metadata": {},
   "outputs": [
    {
     "name": "stdout",
     "output_type": "stream",
     "text": [
      "[10, 20, 30, 40, 50]\n"
     ]
    }
   ],
   "source": [
    "number_list = [10, 20, 30, 40, 50, 60, 70, 80, 90, 100]\n",
    "for i in range(len(number_list) - 1, -1, -1):\n",
    "    if number_list[i] > 50:\n",
    "        del number_list[i]\n",
    "print(number_list)"
   ]
  },
  {
   "cell_type": "markdown",
   "metadata": {},
   "source": [
    "## **Ejercicio 4**"
   ]
  },
  {
   "cell_type": "markdown",
   "metadata": {},
   "source": [
    "Dado la siguiente diccionario: \n",
    "\n",
    "ascii_dict = {'A':65,'B':66,'C':67,'D':68}\n",
    "\n",
    "Invierta las claves y los valores tal que queden al contrario\n",
    "\n",
    "<table>\n",
    "<tr>\n",
    "  <td><strong>Condicion para la ejecución</strong></td>\n",
    "  <td>ascii_dict = {'A':65,'B':66,'C':67,'D':68}</td>\n",
    "<tr>\n",
    "  <td><strong>Salida</strong></td>\n",
    "  <td>ascii_dict = {65:'A',66:'B',67:'C',68:'D'}</td>\n",
    "<tr>\n",
    "  <td><strong>Tiempo</strong></td>\n",
    "  <td>5 Minutos</td>\n",
    "<tr>\n",
    "</table>"
   ]
  },
  {
   "cell_type": "markdown",
   "metadata": {},
   "source": [
    "#### <FONT COLOR=\"blue\">**SOLUCION Ejercicio 4.** </FONT>"
   ]
  },
  {
   "cell_type": "code",
   "execution_count": 8,
   "metadata": {},
   "outputs": [
    {
     "name": "stdout",
     "output_type": "stream",
     "text": [
      "{65: 'A', 66: 'B', 67: 'C', 68: 'D'}\n"
     ]
    }
   ],
   "source": [
    "ascii_dict = {'A': 65, 'B': 66, 'C': 67, 'D': 68}\n",
    "# Reverse mapping\n",
    "new_dict = {value: key for key, value in ascii_dict.items()}\n",
    "print(new_dict)"
   ]
  },
  {
   "cell_type": "markdown",
   "metadata": {},
   "source": [
    "## **Ejercicio 5**"
   ]
  },
  {
   "cell_type": "markdown",
   "metadata": {},
   "source": [
    "Dado la siguiente lista: \n",
    "\n",
    "sample_list = [10,20,30,40,60,20,10,30,70,80,100,110]\n",
    "\n",
    "Imprima todos los elementos duplicados dentro de la misma\n",
    "\n",
    "<table>\n",
    "<tr>\n",
    "  <td><strong>Condicion para la ejecución</strong></td>\n",
    "  <td>sample_list = [10,20,30,40,60,20,10,30,70,80,100,110]</td>\n",
    "<tr>\n",
    "  <td><strong>Salida</strong></td>\n",
    "  <td>[10,20,30]</td>\n",
    "<tr>\n",
    "  <td><strong>Tiempo</strong></td>\n",
    "  <td>5 Minutos</td>\n",
    "<tr>\n",
    "</table>"
   ]
  },
  {
   "cell_type": "markdown",
   "metadata": {},
   "source": [
    "#### <FONT COLOR=\"blue\">**SOLUCION Ejercicio 5.** </FONT>"
   ]
  },
  {
   "cell_type": "code",
   "execution_count": 12,
   "metadata": {},
   "outputs": [
    {
     "name": "stdout",
     "output_type": "stream",
     "text": [
      "[20, 10, 30]\n"
     ]
    }
   ],
   "source": [
    "sample_list = [10,20,30,40,60,20,10,30,70,80,100,110]\n",
    "exist = {}\n",
    "duplicates = []\n",
    "\n",
    "for x in sample_list:\n",
    "    if x not in exist:\n",
    "        exist[x] = 1\n",
    "    else:\n",
    "        duplicates.append(x)\n",
    "print(duplicates)"
   ]
  },
  {
   "cell_type": "code",
   "execution_count": 10,
   "metadata": {},
   "outputs": [
    {
     "name": "stdout",
     "output_type": "stream",
     "text": [
      "[10, 20, 30]\n"
     ]
    }
   ],
   "source": [
    "import collections\n",
    "\n",
    "sample_list = [10,20,30,40,60,20,10,30,70,80,100,110]\n",
    "\n",
    "duplicates = []\n",
    "for item, count in collections.Counter(sample_list).items():\n",
    "    if count > 1:\n",
    "        duplicates.append(item)\n",
    "print(duplicates)"
   ]
  },
  {
   "cell_type": "markdown",
   "metadata": {},
   "source": [
    "## **Ejercicio 6**"
   ]
  },
  {
   "cell_type": "markdown",
   "metadata": {},
   "source": [
    "Dado el siguiente diccionario: \n",
    "\n",
    "dicci_ascii = {'A':65,'B':66,'C':67,'D':68, 'E':69, 'F':70, 'G':71}\n",
    "\n",
    "Y la siguiente lista de claves: \n",
    "\n",
    "key_list = ['A','C','F']\n",
    "\n",
    "Devuelva un nuevo diccionario con las claves que unicamente se encuentran en la lista\n",
    "\n",
    "<table>\n",
    "<tr>\n",
    "  <td><strong>Condicion para la ejecución</strong></td>\n",
    "  <td>dicci_ascii = {'A':65,'B':66,'C':67,'D':68, 'E':69, 'F':70, 'G':71}</td>\n",
    "  <td>key_list = ['A','C','F']</td>\n",
    "<tr>\n",
    "  <td><strong>Salida</strong></td>\n",
    "  <td>new_dicci_ascii = {'A':65,'C':67,'F':70}</td>\n",
    "<tr>\n",
    "  <td><strong>Tiempo</strong></td>\n",
    "  <td>5 Minutos</td>\n",
    "<tr>\n",
    "</table>"
   ]
  },
  {
   "cell_type": "markdown",
   "metadata": {},
   "source": [
    "#### <FONT COLOR=\"blue\">**SOLUCION Ejercicio 6.** </FONT>"
   ]
  },
  {
   "cell_type": "code",
   "execution_count": 14,
   "metadata": {
    "scrolled": true
   },
   "outputs": [
    {
     "name": "stdout",
     "output_type": "stream",
     "text": [
      "{'A': 65, 'C': 67, 'F': 70}\n"
     ]
    }
   ],
   "source": [
    "# Dictionary\n",
    "d1 = {'A': 65, 'B': 66, 'C': 67, 'D': 68, 'E': 69, 'F': 70, 'G':71}\n",
    "# Filter dict using following keys\n",
    "l1 = ['A', 'C', 'F']\n",
    "new_dict = {key: d1[key] for key in l1}\n",
    "print(new_dict)"
   ]
  },
  {
   "cell_type": "markdown",
   "metadata": {},
   "source": [
    "## **Ejercicio 7**"
   ]
  },
  {
   "cell_type": "markdown",
   "metadata": {},
   "source": [
    "Escriba una función que a partir de un número máximo como argumento imprima el siguiente patrón"
   ]
  },
  {
   "cell_type": "code",
   "execution_count": 15,
   "metadata": {
    "collapsed": true
   },
   "outputs": [
    {
     "ename": "SyntaxError",
     "evalue": "invalid syntax (<ipython-input-15-bf89bbc0bfec>, line 1)",
     "output_type": "error",
     "traceback": [
      "\u001b[1;36m  File \u001b[1;32m\"<ipython-input-15-bf89bbc0bfec>\"\u001b[1;36m, line \u001b[1;32m1\u001b[0m\n\u001b[1;33m    1 1 1 1 1 1 1 1\u001b[0m\n\u001b[1;37m      ^\u001b[0m\n\u001b[1;31mSyntaxError\u001b[0m\u001b[1;31m:\u001b[0m invalid syntax\n"
     ]
    }
   ],
   "source": [
    "1 1 1 1 1 1 1 1\n",
    "2 2 2 2 2 2 2\n",
    "3 3 3 3 3 3\n",
    "4 4 4 4 4\n",
    "5 5 5 5 \n",
    "6 6 6 \n",
    "7 7 \n",
    "8"
   ]
  },
  {
   "cell_type": "markdown",
   "metadata": {},
   "source": [
    "\n",
    "<table>\n",
    "<tr>\n",
    "  <td><strong>Condicion para la ejecución</strong></td>\n",
    "  <td>Número máximo de filas</td>\n",
    "<tr>\n",
    "  <td><strong>Salida</strong></td>\n",
    "  <td>Patrón</td>\n",
    "<tr>\n",
    "  <td><strong>Tiempo</strong></td>\n",
    "  <td>5 Minutos</td>\n",
    "<tr>\n",
    "</table>"
   ]
  },
  {
   "cell_type": "markdown",
   "metadata": {},
   "source": [
    "#### <FONT COLOR=\"blue\">**SOLUCION Ejercicio 7.** </FONT>"
   ]
  },
  {
   "cell_type": "code",
   "execution_count": 17,
   "metadata": {},
   "outputs": [
    {
     "name": "stdout",
     "output_type": "stream",
     "text": [
      "1 1 1 1 1 1 1 1 1 1 \r\n",
      "2 2 2 2 2 2 2 2 2 \r\n",
      "3 3 3 3 3 3 3 3 \r\n",
      "4 4 4 4 4 4 4 \r\n",
      "5 5 5 5 5 5 \r\n",
      "6 6 6 6 6 \r\n",
      "7 7 7 7 \r\n",
      "8 8 8 \r\n",
      "9 9 \r\n",
      "10 \r\n"
     ]
    }
   ],
   "source": [
    "def patron(rows):\n",
    "    x = 0\n",
    "    # reverse for loop from 5 to 0\n",
    "    for i in range(rows, 0, -1):\n",
    "        x += 1\n",
    "        for j in range(1, i + 1):\n",
    "            print(x, end=' ')\n",
    "        print('\\r')\n",
    "\n",
    "patron(10)"
   ]
  },
  {
   "cell_type": "markdown",
   "metadata": {},
   "source": [
    "## **Ejercicio 8**"
   ]
  },
  {
   "cell_type": "markdown",
   "metadata": {},
   "source": [
    "- Cree una función que tenga como argumentos dos elementos de tipo string x y y.\n",
    "- Cree una función inner o interna que concatene ambos strings\n",
    "- Al finalizar la función externa una los dos strings con la palabra 'desarrollador'"
   ]
  },
  {
   "cell_type": "markdown",
   "metadata": {},
   "source": [
    "\n",
    "<table>\n",
    "<tr>\n",
    "  <td><strong>Condicion para la ejecución</strong></td>\n",
    "  <td>Strings x y y</td>\n",
    "<tr>\n",
    "  <td><strong>Salida</strong></td>\n",
    "  <td>xydesarrollador</td>\n",
    "<tr>\n",
    "  <td><strong>Tiempo</strong></td>\n",
    "  <td>5 Minutos</td>\n",
    "<tr>\n",
    "</table>"
   ]
  },
  {
   "cell_type": "markdown",
   "metadata": {},
   "source": [
    "#### <FONT COLOR=\"blue\">**SOLUCION Ejercicio 8.** </FONT>"
   ]
  },
  {
   "cell_type": "code",
   "execution_count": 18,
   "metadata": {},
   "outputs": [
    {
     "name": "stdout",
     "output_type": "stream",
     "text": [
      "EmmaKellyDevelopers\n"
     ]
    }
   ],
   "source": [
    "def manipulate(x, y):\n",
    "    # concatenate two strings\n",
    "    def inner_fun(x, y):\n",
    "        return x + y\n",
    "\n",
    "    z = inner_fun(x, y)\n",
    "    return z + 'Developers'\n",
    "\n",
    "result = manipulate('Juan', 'José')\n",
    "print(result)"
   ]
  },
  {
   "cell_type": "markdown",
   "metadata": {},
   "source": [
    "## **Ejercicio 9**"
   ]
  },
  {
   "cell_type": "markdown",
   "metadata": {},
   "source": [
    "Dada la siguiente lista: \n",
    "\n",
    "lista1 = [5, [10, 15, [20, 25, [30, 35], 40], 45], 50]\n",
    "\n",
    "Acceda al elemento 35 y reemplacelo con 3500"
   ]
  },
  {
   "cell_type": "markdown",
   "metadata": {},
   "source": [
    "\n",
    "<table>\n",
    "<tr>\n",
    "  <td><strong>Condicion para la ejecución</strong></td>\n",
    "  <td>lista1 = [5, [10, 15, [20, 25, [30, 35], 40], 45], 50]</td>\n",
    "<tr>\n",
    "  <td><strong>Salida</strong></td>\n",
    "  <td>[5, [10, 15, [20, 25, [30, 3500], 40], 45], 50]</td>\n",
    "<tr>\n",
    "  <td><strong>Tiempo</strong></td>\n",
    "  <td>5 Minutos</td>\n",
    "<tr>\n",
    "</table>"
   ]
  },
  {
   "cell_type": "markdown",
   "metadata": {},
   "source": [
    "#### <FONT COLOR=\"blue\">**SOLUCION Ejercicio 9.** </FONT>"
   ]
  },
  {
   "cell_type": "code",
   "execution_count": 19,
   "metadata": {},
   "outputs": [
    {
     "name": "stdout",
     "output_type": "stream",
     "text": [
      "[5, [10, 15, [20, 25, [30, 3500], 40], 45], 50]\n"
     ]
    }
   ],
   "source": [
    "list1 = [5, [10, 15, [20, 25, [30, 35], 40], 45], 50]\n",
    "# modify item\n",
    "list1[1][2][2][1] = 3500\n",
    "# print final result\n",
    "print(list1)"
   ]
  },
  {
   "cell_type": "markdown",
   "metadata": {},
   "source": [
    "## **Ejercicio 10**"
   ]
  },
  {
   "cell_type": "markdown",
   "metadata": {},
   "source": [
    "Dada el siguiente diccionario: \n",
    "\n",
    "emp_dict = {\n",
    "    \"company\": {\n",
    "        \"employee\": {\n",
    "            \"name\": \"Jess\",\n",
    "            \"payable\": {\n",
    "                \"salary\": 9000,\n",
    "                \"increment\": 12\n",
    "            }\n",
    "        }\n",
    "    }\n",
    "}\n",
    "\n",
    "Acceda al elemento con clave 'increment' y cambielo por 1200"
   ]
  },
  {
   "cell_type": "markdown",
   "metadata": {},
   "source": [
    "\n",
    "<table>\n",
    "<tr>\n",
    "  <td><strong>Condicion para la ejecución</strong></td>\n",
    "  <td>emp_dict = {\n",
    "    \"company\": {\n",
    "        \"employee\": {\n",
    "            \"name\": \"Jess\",\n",
    "            \"payable\": {\n",
    "                \"salary\": 9000,\n",
    "                \"increment\": 12\n",
    "            }\n",
    "        }\n",
    "    }\n",
    "}</td>\n",
    "<tr>\n",
    "  <td><strong>Salida</strong></td>\n",
    "  <td>emp_dict = {\n",
    "    \"company\": {\n",
    "        \"employee\": {\n",
    "            \"name\": \"Jess\",\n",
    "            \"payable\": {\n",
    "                \"salary\": 9000,\n",
    "                \"increment\": 1200\n",
    "            }\n",
    "        }\n",
    "    }\n",
    "}</td>\n",
    "<tr>\n",
    "  <td><strong>Tiempo</strong></td>\n",
    "  <td>5 Minutos</td>\n",
    "<tr>\n",
    "</table>"
   ]
  },
  {
   "cell_type": "markdown",
   "metadata": {},
   "source": [
    "#### <FONT COLOR=\"blue\">**SOLUCION Ejercicio 9.** </FONT>"
   ]
  },
  {
   "cell_type": "code",
   "execution_count": 22,
   "metadata": {},
   "outputs": [
    {
     "name": "stdout",
     "output_type": "stream",
     "text": [
      "{'company': {'employee': {'name': 'Jess', 'payable': {'salary': 9000, 'increment': 1200}}}}\n"
     ]
    }
   ],
   "source": [
    "emp_dict = {\n",
    "    \"company\": {\n",
    "        \"employee\": {\n",
    "            \"name\": \"Jess\",\n",
    "            \"payable\": {\n",
    "                \"salary\": 9000,\n",
    "                \"increment\": 12\n",
    "            }\n",
    "        }\n",
    "    }\n",
    "}\n",
    "emp_dict['company']['employee']['payable']['increment']=1200\n",
    "print(emp_dict)"
   ]
  }
 ],
 "metadata": {
  "kernelspec": {
   "display_name": "Python 3 (ipykernel)",
   "language": "python",
   "name": "python3"
  },
  "language_info": {
   "codemirror_mode": {
    "name": "ipython",
    "version": 3
   },
   "file_extension": ".py",
   "mimetype": "text/x-python",
   "name": "python",
   "nbconvert_exporter": "python",
   "pygments_lexer": "ipython3",
   "version": "3.9.12"
  },
  "vscode": {
   "interpreter": {
    "hash": "d6ff7cb00638fb92356a42c28981a177178b7e1976aa8ecd498ce1508ea8d5e4"
   }
  }
 },
 "nbformat": 4,
 "nbformat_minor": 4
}
